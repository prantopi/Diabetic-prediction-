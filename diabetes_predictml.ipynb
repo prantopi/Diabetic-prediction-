{
  "nbformat": 4,
  "nbformat_minor": 0,
  "metadata": {
    "colab": {
      "provenance": [],
      "mount_file_id": "1nPggws0E0d0rkvRYvoQC6iCDgzn4UyTh",
      "authorship_tag": "ABX9TyMNxrGjNwpzNuGlG2bE9DwF",
      "include_colab_link": true
    },
    "kernelspec": {
      "name": "python3",
      "display_name": "Python 3"
    },
    "language_info": {
      "name": "python"
    }
  },
  "cells": [
    {
      "cell_type": "markdown",
      "metadata": {
        "id": "view-in-github",
        "colab_type": "text"
      },
      "source": [
        "<a href=\"https://colab.research.google.com/github/prantopi/Diabetic-prediction-/blob/main/diabetes_predictml.ipynb\" target=\"_parent\"><img src=\"https://colab.research.google.com/assets/colab-badge.svg\" alt=\"Open In Colab\"/></a>"
      ]
    },
    {
      "cell_type": "code",
      "source": [
        "import pandas as pd\n",
        "from sklearn.linear_model import LogisticRegression\n",
        "df=pd.read_csv(\"diabetic.csv\")\n",
        "#df=df.iloc[:len(df)//1]\n",
        "df[\"male\"]=df[\"gender\"]==\"male\"\n",
        "df[\"smoke\"]=df[\"smoking_history\"].map({\"never\":0,\"current\":1,\"former\":2,\"No Info\":3,\"ever\":4,\"not current\":5})\n",
        "\n",
        "X=df[[\"male\",\"age\",\"hypertension\",\"heart_disease\",\"bmi\",\"HbA1c_level\",\"blood_glucose_level\",\"smoke\"]].values\n",
        "df=df.dropna()\n",
        "\n",
        "y=df[\"diabetes\"].values\n"
      ],
      "metadata": {
        "id": "9_GGe5g8qRnN"
      },
      "execution_count": null,
      "outputs": []
    },
    {
      "cell_type": "code",
      "source": [
        "model = LogisticRegression(max_iter=5000)\n",
        "model.fit(X,y)\n",
        "#print(model.coef_,model.intercept_)\n",
        "\n",
        "\n",
        "y_pred = model.predict(X)\n",
        "print((model.score(X, y))*100)\n",
        "q=model.predict(X[50:100])\n",
        "r=y[50:100]\n",
        "print(\" Predict:{0}|\\nDiagnosis{1}\".format(q,r))\n"
      ],
      "metadata": {
        "colab": {
          "base_uri": "https://localhost:8080/"
        },
        "id": "WMr5rV34O3_4",
        "outputId": "e59aca3d-4485-4658-ba9e-1558bb66fd34"
      },
      "execution_count": null,
      "outputs": [
        {
          "output_type": "stream",
          "name": "stdout",
          "text": [
            "96.029\n",
            " Predict:[0 0 0 0 0 1 0 0 0 1 0 0 0 0 0 1 0 0 0 0 0 0 0 0 0 0 0 0 0 0 0 1 0 0 0 0 0\n",
            " 0 0 0 0 0 0 0 1 0 0 0 0 0]|\n",
            "Diagnosis[0 0 0 1 0 1 0 0 0 1 0 0 0 0 0 0 0 0 0 0 0 0 0 0 0 0 0 0 0 0 0 1 0 0 0 0 0\n",
            " 1 0 0 0 0 0 0 1 0 1 0 0 0]\n"
          ]
        }
      ]
    },
    {
      "cell_type": "markdown",
      "source": [],
      "metadata": {
        "id": "As07Il8KqSUB"
      }
    }
  ]
}